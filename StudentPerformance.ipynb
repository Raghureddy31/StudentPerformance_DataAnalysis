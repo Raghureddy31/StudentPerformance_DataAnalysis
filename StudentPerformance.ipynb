{
 "cells": [
  {
   "cell_type": "code",
   "execution_count": null,
   "id": "40325969",
   "metadata": {},
   "outputs": [],
   "source": [
    "# Importing Libraries\n",
    "import pandas as pd\n",
    "import numpy as np\n",
    "import sklearn\n",
    "from sklearn import linear_model\n",
    "from sklearn.preprocessing import MinMaxScaler\n",
    "import matplotlib.pyplot as plt\n",
    "import seaborn as sns\n",
    "# Standard ML Models for comparison\n",
    "from sklearn.linear_model import LinearRegression\n",
    "from sklearn.ensemble import RandomForestRegressor\n",
    "from sklearn.svm import SVR\n",
    "# Metrics\n",
    "from sklearn.metrics import mean_squared_error, mean_absolute_error"
   ]
  },
  {
   "cell_type": "code",
   "execution_count": null,
   "id": "fc5c62d3",
   "metadata": {},
   "outputs": [],
   "source": [
    "# Load Dataset\n",
    "students = pd.read_csv('C:/Users/HP1/Downloads/student/student-mat.csv',sep=';')"
   ]
  },
  {
   "cell_type": "code",
   "execution_count": null,
   "id": "cf8db618",
   "metadata": {},
   "outputs": [],
   "source": [
    "# The dataset info such as no of attributes or features, \n",
    "# type of attributes, memory of an dataset \n",
    "students.info()"
   ]
  },
  {
   "cell_type": "code",
   "execution_count": null,
   "id": "1a1cee06",
   "metadata": {},
   "outputs": [],
   "source": [
    "# statistical details of the dataset\n",
    "students.describe()"
   ]
  },
  {
   "cell_type": "code",
   "execution_count": null,
   "id": "29e3da7a",
   "metadata": {},
   "outputs": [],
   "source": [
    "# Check for any missing values for these attributes\n",
    "students.isnull().any()"
   ]
  },
  {
   "cell_type": "code",
   "execution_count": null,
   "id": "75e2f1e4",
   "metadata": {},
   "outputs": [],
   "source": [
    "# Exploratory Data Analysis\n",
    "# How much % of students going to school 1 and school 2  \n",
    "students['school'].value_counts()"
   ]
  },
  {
   "cell_type": "code",
   "execution_count": null,
   "id": "d525d3f4",
   "metadata": {},
   "outputs": [],
   "source": [
    "# Number of Male and female students\n",
    "female_students = len(students[students['sex'] == 'F'])\n",
    "print(\" No of female students\",female_students)\n",
    "male_students = len(students[students['sex'] == 'M'])\n",
    "print(\" No of male students\",male_students)"
   ]
  },
  {
   "cell_type": "code",
   "execution_count": null,
   "id": "f31e05e7",
   "metadata": {},
   "outputs": [],
   "source": [
    "# students from urban or rural areas\n",
    "urban_stud = len(students[students['address'] == 'U'])\n",
    "print('Number of Urban students:',urban_stud)\n",
    "rural_stud = len(students[students['address'] == 'R'])\n",
    "print('Number of Rural students:',rural_stud)"
   ]
  },
  {
   "cell_type": "code",
   "execution_count": null,
   "id": "c75fd43a",
   "metadata": {},
   "outputs": [],
   "source": [
    "# Age of students\n",
    "plot = sns.kdeplot(students['age'])    # Kernel Density Estimations\n",
    "plot.axes.set_title('Ages of students')\n",
    "plot.set_xlabel('Age')\n",
    "plot.set_ylabel('Count')\n",
    "plt.show()\n",
    "#Observation:Plot shows the median grades of the three age groups are similar\n",
    "#Age groups: 15,16,17"
   ]
  },
  {
   "cell_type": "code",
   "execution_count": null,
   "id": "d9e064ee",
   "metadata": {},
   "outputs": [],
   "source": [
    "# Do urban students perform better than rural students?\n",
    "# Grade distribution by address\n",
    "sns.kdeplot(students.loc[students['address'] == 'U', 'G3'], label='Urban', shade = True)\n",
    "sns.kdeplot(students.loc[students['address'] == 'R', 'G3'], label='Rural', shade = True)\n",
    "plt.title('Do urban students score higher than rural students?')\n",
    "plt.xlabel('Grade');\n",
    "plt.ylabel('Density')\n",
    "plt.show()\n",
    "#Observation:Graph clearly shows \n",
    "#There is not much difference between the grades based on location."
   ]
  },
  {
   "cell_type": "code",
   "execution_count": null,
   "id": "046de323",
   "metadata": {},
   "outputs": [],
   "source": [
    "# Correlation with respect to G3\n",
    "students.corr()['G3'].sort_values()"
   ]
  },
  {
   "cell_type": "code",
   "execution_count": null,
   "id": "3bd0fa65",
   "metadata": {},
   "outputs": [],
   "source": [
    "# drop the school and grade columns\n",
    "students = students.drop(['school', 'G1', 'G2'], axis='columns')\n",
    "# Obserevations: Although G1 and G2 which are period grades of a student\n",
    "# and are highly correlated to the final grade G3, we drop them. \n",
    "# It is more difficult to predict G3 without G2 and G1, \n",
    "# but such prediction is much more useful \n",
    "# because we want to find other factors affect the grade."
   ]
  },
  {
   "cell_type": "code",
   "execution_count": null,
   "id": "f83cd767",
   "metadata": {},
   "outputs": [],
   "source": [
    "# Find correlations with the Grade G3\n",
    "most_correlated = students.corr().abs()['G3'].sort_values(ascending=False)\n",
    "# Maintain the top 5 most correlation features with Grade3\n",
    "most_correlated = most_correlated[:6]\n",
    "most_correlated"
   ]
  },
  {
   "cell_type": "code",
   "execution_count": null,
   "id": "4f218613",
   "metadata": {},
   "outputs": [],
   "source": [
    "students = students.loc[:, most_correlated.index]\n",
    "students.head()"
   ]
  },
  {
   "cell_type": "code",
   "execution_count": null,
   "id": "4ed9f99a",
   "metadata": {},
   "outputs": [],
   "source": [
    "# Failures\n",
    "plot = sns.stripplot(x=students['failures'],y=students['G3'],palette='autumn')\n",
    "plot.axes.set_title('Previous Failures vs Final Grade(G3)')\n",
    "# Observation: Student with less previous failures usually score higher"
   ]
  },
  {
   "cell_type": "code",
   "execution_count": null,
   "id": "73fc0e30",
   "metadata": {},
   "outputs": [],
   "source": [
    "# Does age affetcs final grade\n",
    "plot = sns.stripplot(x=students['age'],y=students['G3'],palette='autumn')\n",
    "plot.axes.set_title('Age vs Final Grade(G3)')\n",
    "# Observation:\n",
    "# Age group 20 seems to score highest grades among all."
   ]
  },
  {
   "cell_type": "code",
   "execution_count": null,
   "id": "0a36978e",
   "metadata": {},
   "outputs": [],
   "source": [
    "# Family Education Attribute i,e Mother Education and Father Education\n",
    "family_education = students['Fedu'] + students['Medu']\n",
    "plot = sns.stripplot(x=family_education,y=students['G3'],palette='autumn')\n",
    "plot.axes.set_title('Family Education vs Final Grade(G3)')\n",
    "# Observation: Educated Families results in highest grade"
   ]
  },
  {
   "cell_type": "code",
   "execution_count": null,
   "id": "3e306e90",
   "metadata": {},
   "outputs": [],
   "source": [
    "# Going out \n",
    "plot = sns.stripplot(x=students['goout'],y=students['G3'],palette='autumn')\n",
    "plot.axes.set_title('Go Out vs Final Grade(G3)')\n",
    "# Observation: Students goes out lott scores less"
   ]
  },
  {
   "cell_type": "code",
   "execution_count": null,
   "id": "ed3e342e",
   "metadata": {},
   "outputs": [],
   "source": [
    "# Splitting the dataset into a training set and test set\n",
    "X_train, X_test, y_train, y_test = sklearn.model_selection.train_test_split(students,students['G3'], test_size=0.2, random_state=20)"
   ]
  },
  {
   "cell_type": "code",
   "execution_count": null,
   "id": "96ca503f",
   "metadata": {},
   "outputs": [],
   "source": [
    "X_train.head()"
   ]
  },
  {
   "cell_type": "code",
   "execution_count": null,
   "id": "77967ebe",
   "metadata": {},
   "outputs": [],
   "source": [
    "# Evaluate several ml models by training on training set and testing on testing set\n",
    "def evaluate(X_train, X_test, y_train, y_test):\n",
    "    # Names of models\n",
    "    model_name_list = ['Linear Regression','Random Forest','SVM']\n",
    "    X_train = X_train.drop('G3', axis='columns')\n",
    "    X_test = X_test.drop('G3', axis='columns')\n",
    "    # Instantiate the models\n",
    "    model_1 = LinearRegression()\n",
    "    model_2 = RandomForestRegressor(n_estimators=100)\n",
    "    model_3 = SVR(kernel='rbf', degree=3, C=1.0, gamma='auto')\n",
    "    # Dataframe for results\n",
    "    results = pd.DataFrame(columns=['mae', 'rmse'], index = model_name_list)\n",
    "    # Train and predict with each model\n",
    "    for i, model in enumerate([model_1, model_2, model_3]):\n",
    "        model.fit(X_train, y_train)\n",
    "        predictions = model.predict(X_test)\n",
    "        # Calculating Mean Absolute Error and Root Mean squared Error Metrics\n",
    "        mae = np.mean(abs(predictions - y_test))\n",
    "        rmse = np.sqrt(np.mean((predictions - y_test) ** 2))\n",
    "        # Insert results into the dataframe\n",
    "        model_name = model_name_list[i]\n",
    "        results.loc[model_name, :] = [mae, rmse]\n",
    "    return results"
   ]
  },
  {
   "cell_type": "code",
   "execution_count": null,
   "id": "2ac52019",
   "metadata": {},
   "outputs": [],
   "source": [
    "results = evaluate(X_train, X_test, y_train, y_test)\n",
    "results"
   ]
  },
  {
   "cell_type": "code",
   "execution_count": null,
   "id": "a45f0912",
   "metadata": {},
   "outputs": [],
   "source": [
    "plt.figure(figsize=(12, 7))\n",
    "# mean absolute error\n",
    "ax =  plt.subplot(1, 2, 1)\n",
    "results.sort_values('mae', ascending = True).plot.bar(y = 'mae', color = 'violet', ax = ax)\n",
    "plt.title('Model Mean Absolute Error') \n",
    "plt.ylabel('MAE')\n",
    "# Root mean squared error\n",
    "ax = plt.subplot(1, 2, 2)\n",
    "results.sort_values('rmse', ascending = True).plot.bar(y = 'rmse', color = 'pink', ax = ax)\n",
    "plt.title('Model Root Mean Squared Error') \n",
    "plt.ylabel('RMSE')\n",
    "plt.show()\n",
    "\n",
    "# Conclusion: \n",
    "# As we see both Model Mean Absolute Error & Model Root Mean Squared Error\n",
    "# The linear regression is performing the best in both cases"
   ]
  },
  {
   "cell_type": "code",
   "execution_count": null,
   "id": "1847c63b",
   "metadata": {},
   "outputs": [],
   "source": [
    "# Create Linear Regression object\n",
    "regressor = linear_model.LinearRegression()\n",
    "# Fitting the linear regression model to the training set\n",
    "regressor.fit(X_train, y_train)"
   ]
  },
  {
   "cell_type": "code",
   "execution_count": null,
   "id": "3bde0dc7",
   "metadata": {},
   "outputs": [],
   "source": [
    "r_squared = regressor.score(X_test,y_test)\n",
    "print(r_squared)"
   ]
  },
  {
   "cell_type": "code",
   "execution_count": null,
   "id": "61c71079",
   "metadata": {},
   "outputs": [],
   "source": [
    "# Making Predictions and Displaying\n",
    "predictions = regressor.predict(X_test)\n",
    "df = pd.DataFrame({'Actual': y_test, 'Predicted': predictions})\n",
    "df"
   ]
  },
  {
   "cell_type": "code",
   "execution_count": null,
   "id": "e499fed6",
   "metadata": {},
   "outputs": [],
   "source": [
    "# How Linear regression model Predicts For different Features\n",
    "students = pd.read_csv('C:/Users/HP1/Downloads/student/student-mat.csv',sep=';')\n",
    "# Changing Features\n",
    "students = students[[\"G1\", \"G2\", \"G3\", \"age\", \"studytime\", \"failures\", \"absences\"]]\n",
    "predict = \"G3\"\n",
    "X = np.array(students.drop(columns='G3'))\n",
    "y = np.array(students[predict])\n",
    "x_train, x_test, y_train, y_test = sklearn.model_selection.train_test_split(\n",
    "    X, y, test_size=0.2, random_state=20\n",
    ")\n",
    "regressor = linear_model.LinearRegression()\n",
    "regressor.fit(x_train, y_train)\n",
    "r_squared = regressor.score(x_test,y_test)\n",
    "print(r_squared)\n",
    "predictions = regressor.predict(x_test)\n",
    "df = pd.DataFrame({'Actual': y_test, 'Predicted': predictions})\n",
    "df \n",
    "# a list of all predictions\n",
    "#for x in range(len(predictions)):\n",
    "    #print(round(predictions[x]), y_test[x])\n",
    "# Conclusion:\n",
    "# 86% of the data fit the regression model"
   ]
  }
 ],
 "metadata": {
  "kernelspec": {
   "display_name": "Python 3 (ipykernel)",
   "language": "python",
   "name": "python3"
  },
  "language_info": {
   "codemirror_mode": {
    "name": "ipython",
    "version": 3
   },
   "file_extension": ".py",
   "mimetype": "text/x-python",
   "name": "python",
   "nbconvert_exporter": "python",
   "pygments_lexer": "ipython3",
   "version": "3.9.7"
  }
 },
 "nbformat": 4,
 "nbformat_minor": 5
}
